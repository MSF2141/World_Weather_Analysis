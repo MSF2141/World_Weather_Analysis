{
 "cells": [
  {
   "cell_type": "code",
   "execution_count": 1,
   "id": "53e4d281",
   "metadata": {},
   "outputs": [],
   "source": [
    "# Import the random module.\n",
    "import random"
   ]
  },
  {
   "cell_type": "code",
   "execution_count": 2,
   "id": "4b6af54d",
   "metadata": {},
   "outputs": [
    {
     "data": {
      "text/plain": [
       "-68"
      ]
     },
     "execution_count": 2,
     "metadata": {},
     "output_type": "execute_result"
    }
   ],
   "source": [
    "# The randint() Function; randint is short for \"random integer.\" \n",
    "\n",
    "random.randint(-90, 90)"
   ]
  },
  {
   "cell_type": "code",
   "execution_count": 3,
   "id": "c1a0ba15",
   "metadata": {},
   "outputs": [
    {
     "data": {
      "text/plain": [
       "0.48824389219441866"
      ]
     },
     "execution_count": 3,
     "metadata": {},
     "output_type": "execute_result"
    }
   ],
   "source": [
    "# The random() Function;  generates random single floating-point decimal numbers between 0 and 1.0.\n",
    "\n",
    "random.random()"
   ]
  },
  {
   "cell_type": "code",
   "execution_count": 4,
   "id": "7237e87b",
   "metadata": {},
   "outputs": [
    {
     "data": {
      "text/plain": [
       "-27.031553889842822"
      ]
     },
     "execution_count": 4,
     "metadata": {},
     "output_type": "execute_result"
    }
   ],
   "source": [
    "# To generate a random latitude, combine random.randint(-90, 89) and random.random() to generate a floating-point decimal between -90 and 90. \n",
    "# Change the lower range of the randint() because we want whole numbers up to 89, so when we add the floating-point decimal number, we'll generate latitudes between –89.99999 and 89.99999.\n",
    "random_number = random.randint(-90, 89) + random.random()\n",
    "random_number"
   ]
  },
  {
   "cell_type": "code",
   "execution_count": 9,
   "id": "14712cf8",
   "metadata": {},
   "outputs": [
    {
     "data": {
      "text/plain": [
       "[-33.57802922988795,\n",
       " 46.300029132927975,\n",
       " -46.37639206412341,\n",
       " -22.073517221068837,\n",
       " -54.671149487327455,\n",
       " 79.21687658021679,\n",
       " -46.440390161031026,\n",
       " -57.13298190294269,\n",
       " -12.345821754652453,\n",
       " 45.957376446912434]"
      ]
     },
     "execution_count": 9,
     "metadata": {},
     "output_type": "execute_result"
    }
   ],
   "source": [
    "# Generate ten random floating-point decimal latitudes between -90 and 89.\n",
    "x = 1\n",
    "latitudes = []\n",
    "while x < 11:\n",
    "    random_lat = random.randint(-90, 89) + random.random()\n",
    "    latitudes.append(random_lat)\n",
    "    x += 1\n",
    "latitudes"
   ]
  },
  {
   "cell_type": "code",
   "execution_count": 11,
   "id": "141c38cc",
   "metadata": {},
   "outputs": [
    {
     "data": {
      "text/plain": [
       "-89"
      ]
     },
     "execution_count": 11,
     "metadata": {},
     "output_type": "execute_result"
    }
   ],
   "source": [
    "# The randrange() function, there is an option to add a step parameter and set it equal to an integer, \n",
    "# which will generate increments of a given integer value, from the lower to the upper limit.\n",
    "random.randrange(-90, 90, step=1)"
   ]
  },
  {
   "cell_type": "code",
   "execution_count": 12,
   "id": "88dc5db6",
   "metadata": {},
   "outputs": [
    {
     "data": {
      "text/plain": [
       "30"
      ]
     },
     "execution_count": 12,
     "metadata": {},
     "output_type": "execute_result"
    }
   ],
   "source": [
    "random.randrange(-90, 90, step=3)"
   ]
  },
  {
   "cell_type": "code",
   "execution_count": 13,
   "id": "214b25ff",
   "metadata": {},
   "outputs": [
    {
     "data": {
      "text/plain": [
       "40.26754173819296"
      ]
     },
     "execution_count": 13,
     "metadata": {},
     "output_type": "execute_result"
    }
   ],
   "source": [
    "# The uniform() function; generates a floating-point decimal number between two given numbers inside the parentheses.\n",
    "random.uniform(-90, 90)"
   ]
  },
  {
   "cell_type": "code",
   "execution_count": 19,
   "id": "46b5673d",
   "metadata": {},
   "outputs": [],
   "source": [
    "# To help us generate the 1500 latitudes and longitudes, \n",
    "# we can combine the NumPy module with one of the random module functions.\n",
    "\n",
    "# Import the NumPy module; a numerical mathematics library that can be used to make arrays or matrices of numbers.\n",
    "# The NumPy module has a built-in random module, no need to import the random module\n",
    "import numpy as np"
   ]
  },
  {
   "cell_type": "code",
   "execution_count": 20,
   "id": "1f64a1c4",
   "metadata": {},
   "outputs": [
    {
     "data": {
      "text/plain": [
       "-77.02814134076058"
      ]
     },
     "execution_count": 20,
     "metadata": {},
     "output_type": "execute_result"
    }
   ],
   "source": [
    "# To generate a floating-point decimal number between -90.000 and 90.000. \n",
    "# Adding the zeros past the decimal places is optional.\n",
    "# Another option is to write the parameters as np.random.uniform(low=-90, high=90).\n",
    "np.random.uniform(-90.000, 90.000)"
   ]
  },
  {
   "cell_type": "code",
   "execution_count": 21,
   "id": "4259fb64",
   "metadata": {},
   "outputs": [
    {
     "data": {
      "text/plain": [
       "array([-62.23412976, -45.596015  ,  55.7913989 ,  76.80723917,\n",
       "        52.89188176, -52.70931946,  54.05070765,  84.69012897,\n",
       "       -23.41734993,  68.22208204, -29.26624429, -66.37219226,\n",
       "         6.56925435, -82.15152776,   4.69504894,  48.18576341,\n",
       "       -20.48116982, -47.31766545, -61.68212567,  -8.39122528,\n",
       "        47.43193164,  57.12987017, -66.37596964,  60.1556963 ,\n",
       "        34.29688567,  10.56237715,  87.62678974,  53.22935936,\n",
       "       -12.22667275, -19.40546784,  75.14345225, -30.8622235 ,\n",
       "       -84.09545663,  46.16568701, -86.64995985,  71.44488547,\n",
       "       -71.88819691,  77.08476128,   5.43346716, -17.74765233,\n",
       "       -27.41706443, -46.21799564,  53.29578508, -38.29474267,\n",
       "        59.3043636 , -51.98225682, -21.27962926, -78.51749388,\n",
       "        57.29248347, -72.47462056])"
      ]
     },
     "execution_count": 21,
     "metadata": {},
     "output_type": "execute_result"
    }
   ],
   "source": [
    "# To generate more than one floating-point decimal number between -90 and 90, \n",
    "# we can add the size parameter when we use the NumPy module and set that equal to any whole number.\n",
    "np.random.uniform(-90.000, 90.000, size=50)"
   ]
  },
  {
   "cell_type": "code",
   "execution_count": null,
   "id": "7b034b31",
   "metadata": {},
   "outputs": [],
   "source": [
    "# Is this method faster than creating a while loop like we did before? Let's time both and compare."
   ]
  },
  {
   "cell_type": "code",
   "execution_count": 22,
   "id": "b4ded6e4",
   "metadata": {},
   "outputs": [],
   "source": [
    "# To test how long a piece of code or function takes to run, \n",
    "# we can import the \"timeit\" module and use the %timeit magic command when we run our code or call the function.\n",
    "\n",
    "# Import timeit.\n",
    "import timeit"
   ]
  },
  {
   "cell_type": "code",
   "execution_count": 23,
   "id": "c5df3ecc",
   "metadata": {},
   "outputs": [
    {
     "name": "stdout",
     "output_type": "stream",
     "text": [
      "14.1 µs ± 545 ns per loop (mean ± std. dev. of 7 runs, 100000 loops each)\n"
     ]
    }
   ],
   "source": [
    "%timeit np.random.uniform(-90.000, 90.000, size=1500)"
   ]
  },
  {
   "cell_type": "code",
   "execution_count": 27,
   "id": "c5b64a1a",
   "metadata": {},
   "outputs": [
    {
     "name": "stdout",
     "output_type": "stream",
     "text": [
      "1.54 ms ± 120 µs per loop (mean ± std. dev. of 7 runs, 1000 loops each)\n"
     ]
    }
   ],
   "source": [
    "def latitudes(size):\n",
    "    latitudes = []\n",
    "    x = 0\n",
    "    while x < (size):\n",
    "        random_lat = random.randint(-90, 90) + random.random()\n",
    "        latitudes.append(random_lat)\n",
    "        x += 1\n",
    "    return latitudes\n",
    "# Call the function with 1500.\n",
    "%timeit latitudes(1500)"
   ]
  },
  {
   "cell_type": "code",
   "execution_count": null,
   "id": "2680cb93",
   "metadata": {},
   "outputs": [],
   "source": [
    "# Result:\n",
    "# Using the np.random.uniform(-90.000, 90.000, size=1500) is ~ 100 times faster than using the while loop function, \n",
    "# and our code is one line, whereas the function uses eight lines!"
   ]
  }
 ],
 "metadata": {
  "kernelspec": {
   "display_name": "PythonData",
   "language": "python",
   "name": "pythondata"
  },
  "language_info": {
   "codemirror_mode": {
    "name": "ipython",
    "version": 3
   },
   "file_extension": ".py",
   "mimetype": "text/x-python",
   "name": "python",
   "nbconvert_exporter": "python",
   "pygments_lexer": "ipython3",
   "version": "3.9.13"
  }
 },
 "nbformat": 4,
 "nbformat_minor": 5
}
